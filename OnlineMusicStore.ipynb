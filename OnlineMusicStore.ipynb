{
 "cells": [
  {
   "cell_type": "code",
   "execution_count": 20,
   "id": "1ba32bd6",
   "metadata": {},
   "outputs": [],
   "source": [
    "# Online Music Store\n",
    "# Machine Learning to inncrease sales\n",
    "\n",
    "# Quando os usuários se inscrevem, perguntamos a idade e o sexo.\n",
    "# Baseado no perfil do usuário, recomendamos diversos álbuns de música que ele provavelmente compraria."
   ]
  },
  {
   "cell_type": "code",
   "execution_count": 3,
   "id": "f3ebedf8",
   "metadata": {},
   "outputs": [],
   "source": [
    "import pandas as pd\n",
    "from sklearn.model_selection import train_test_split\n",
    "from sklearn.tree import DecisionTreeClassifier\n",
    "from sklearn.metrics import accuracy_score\n",
    "import joblib\n",
    "from sklearn import tree\n",
    "\n",
    "music_data = pd.read_csv('music.csv')\n",
    "X = music_data.drop(columns=['genre'])\n",
    "X = X.values\n",
    "y = music_data['genre']\n",
    "\n",
    "# X_train, X_test, y_train, y_test = train_test_split(X, y, test_size=0.2)\n",
    "\n",
    "model = DecisionTreeClassifier()\n",
    "# model.fit(X_train, y_train)\n",
    "model.fit(X, y)\n",
    "\n",
    "tree.export_graphviz(model,\n",
    "                     out_file='music-recommender.dot',\n",
    "                     feature_names=['age', 'gender'],\n",
    "                     class_names=sorted(y.unique()),\n",
    "                     label='all',\n",
    "                     rounded=True,\n",
    "                     filled=True)\n",
    "\n",
    "# joblib.dump(model, 'music-recommender.joblib')\n",
    "\n",
    "# model = joblib.load('music-recommender.joblib')\n",
    "\n",
    "# predictions = model.predict(X_test)\n",
    "# predictions = model.predict([[21, 1]])\n",
    "# score = accuracy_score(y_test, predictions)\n",
    "# predictions\n",
    "# score"
   ]
  },
  {
   "cell_type": "code",
   "execution_count": 39,
   "id": "7836ea47",
   "metadata": {},
   "outputs": [],
   "source": [
    "# O método drop cria um novo conjunto de dados com toda informação dos dados originais, exceto o seu argumento.\n",
    "\n",
    "# O conjunto de dados X será nosso Input Dataset (Entrada de Dados). Convertemos X de dataframe (2D) para array (1D).\n",
    "# O conjunto de dados y será nosso Output Dataset (Saída de Dados).\n",
    "\n",
    "# A função train_test_split divide os dados em dois grupos, um para treinamento e outro para testes.\n",
    "# Os argumentos da função train_test_split são o Input, Output e % dos dados para treinamento e teste.\n",
    "# A função train_test_split retorna um tuple. Nós armazenamos o tuple em quatro variáveis.\n",
    "\n",
    "# Utilizaremos um algoritmo chamado DecisionTree (biblioteca do Side Kick Learn).\n",
    "# Pacote: sklearn / Módulo: tree / Classe: DecisionTreeClassifier.\n",
    "# A função fit recebe 2 conjuntos de dados. Ex: model.fit(X, y).\n",
    "# A função predict prevê o Output dos Inputs passados como argumento. Ex: model.predict([ [21, 1], [22, 0] ]).\n",
    "# A função accuracy_score compara o test split com as previções do modelo e retorna um valor de 0 a 1.\n",
    "\n",
    "# Model Persistence - dependendo da qtd de dados, treinar um modelo pode demorar horas, por isso é interessante salvar\n",
    "# um arquivo com o modelo treinado ao invés de treiná-lo toda vez que quiser realizar uma previsão. Isso também torna\n",
    "# o processo de atualização de um modelo (treiná-lo com novos dados) mais rápido, pois se treina um modelo já treinado.\n",
    "# O objeto joblib possui métodos para salvar (dump) e carregar (load) módulos. Argumentos(modelo, 'nome.joblib').\n",
    "\n",
    "# O objeto tree possui um método (export_graphviz) para exportar a decision tree no formato de gráfico.\n",
    "# export_graphviz Argumentos (modelo,\n",
    "#                            'nome_arquivo_saída.dot',\n",
    "#                             array ['input1', 'input2'],  -> 1ª linha das notas (regras)\n",
    "#                             class output.unique,         -> última linha das notas\n",
    "#                             label='all',                 -> linhas do meio das notas\n",
    "#                             rounded=True,                -> notas com bordas curvas\n",
    "#                             filled=True)                 -> notas preenchidas com cores\n",
    "# export_graphviz cria um arquivo.dot -> Abrimos este arquivo no VS Code -> possui linguagem textural descrevendo gráficos.\n",
    "# No VS Code, em extensions pesquisamos por dot e instalamos o Graphviz (dot) language support for Visual Studio Code.\n",
    "# Em ... -> Open Preview to the Side - é possível visualizar a decision tree.\n",
    "# Em nosso caso temos uma tree binária. A 1ª linha de cada nota representa uma condição. True - Esquerda / False - Direita.\n",
    "# Quanto mais colunas (features) o app tiver, mais complexa será a decicion tree.\n",
    "# Sempre que alimentamos o modelo com mais dados, as regras podem mudar."
   ]
  }
 ],
 "metadata": {
  "kernelspec": {
   "display_name": "Python 3 (ipykernel)",
   "language": "python",
   "name": "python3"
  },
  "language_info": {
   "codemirror_mode": {
    "name": "ipython",
    "version": 3
   },
   "file_extension": ".py",
   "mimetype": "text/x-python",
   "name": "python",
   "nbconvert_exporter": "python",
   "pygments_lexer": "ipython3",
   "version": "3.10.9"
  }
 },
 "nbformat": 4,
 "nbformat_minor": 5
}
